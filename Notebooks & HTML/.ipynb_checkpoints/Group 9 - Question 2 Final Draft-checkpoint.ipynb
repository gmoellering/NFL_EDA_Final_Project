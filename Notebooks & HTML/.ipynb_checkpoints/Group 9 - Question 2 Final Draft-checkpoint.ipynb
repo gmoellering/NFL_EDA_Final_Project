{
 "cells": [
  {
   "cell_type": "markdown",
   "id": "a1c2acd1",
   "metadata": {},
   "source": [
    "# Question 2:  How Effective are Elo Ratings in Predicting Game Outcomes?\n",
    "## Assignment:  Final Project Deliverable\n",
    "### Group Members:  Miguel Avila, Genna Moellering, Shaorui Pi "
   ]
  },
  {
   "cell_type": "markdown",
   "id": "e0e90909",
   "metadata": {},
   "source": [
    "## Overview\n",
    "For this question, our team is evaluating the accuracy of the NFL's Elo rating system, which is designed to assess teams' relative skill level and predict game outcomes based on previous wins and losses. The following is a brief summary of what we did to meet each part of the assignment. \n",
    "\n",
    "### Cleaning Data \n",
    "To answer this question, we only needed to use one dataset ('nfl_elo.csv' at https://projects.fivethirtyeight.com/nfl-api/nfl_elo.csv). Although we used this same dataset in Question 1, Question 2 required that we use much more of the dataset, which is why we cleaned it in a separate Jupyter Notebook. We used the 'parse_dates' function when reading in the file to change our 'date' datatype to datetime64. We then dropped 17 columns that were either irrelevant to our question or largely contained missing data. We dropped all rows that did not meet a threshold of 16 non-null values, which eliminated all data before 1950, which is when the dataset begins trakcing quarterback Elo ratings. From there, we added some columns, including some that were categorical, which we needed to perform the type of analysis we needed to answer the question.\n",
    "\n",
    "### Visualizations\n",
    "We created two visualizations that will help us answer our subquestions. The first is a line graph that shows the number of games per season that the Elo rating correctly predicts and the number of games the Elo incorrectly predicts. The second is a countplot that shows how the Elo rating's certainty level (the degree to which the probability rating favored a given team) compares to the Elo's success score.\n",
    "\n",
    "### Question Refinement\n",
    "Based on our exploration of the dataset, we refined our subquestions from the first assignment as follows:\n",
    "\n",
    "(a) How effective is the Elo rating in predicting accurate game outcomes?\n",
    "\n",
    "(b) To what degree does the certainty level of the Elo's prediction affect the rating's accuracy?\n",
    "\n",
    "### References\n",
    " - https://www.dataquest.io/blog/tutorial-add-column-pandas-dataframe-based-on-if-else-condition/\n",
    " - https://stackoverflow.com/questions/31460146/plotting-value-counts-in-seaborn-barplot\n",
    " - Lecture 3 - Data Wrangling I Slides\n",
    " - Lecture 4 - Data Wrangling II Slides\n",
    " - Lecture 6 - Categorical Data Slides\n",
    " - https://medium.com/@morganjonesartist/color-guide-to-seaborn-palettes-da849406d44f\n",
    " - https://medium.com/purple-theory/what-is-elo-rating-c4eb7a9061e0\n",
    " - https://pandas.pydata.org/pandas-docs/stable/reference/api/pandas.DataFrame.unstack.html\n",
    " - https://stackoverflow.com/questions/33149428/modify-the-legend-of-pandas-bar-plot\n",
    " - https://datascience.stackexchange.com/questions/90355/how-can-i-get-rid-of-the-white-space-in-matplotlib\n",
    " - Python Data Science Handbook - 3.08 and 3.09\n",
    "- [https://pandas.pydata.org/pandas-docs/stable/user_guide/groupby.html](https://pandas.pydata.org/pandas-docs/stable/user_guide/groupby.html)\n",
    "- [https://datagy.io/pandas-groupby/](https://datagy.io/pandas-groupby/)\n",
    "- [https://towardsdatascience.com/ultimate-pandas-guide-mastering-the-groupby-104306251739](https://towardsdatascience.com/ultimate-pandas-guide-mastering-the-groupby-104306251739)\n",
    "- [https://pbpython.com/groupby-agg.html](https://pbpython.com/groupby-agg.html)\n",
    "- https://medium.com/purple-theory/what-is-elo-rating-c4eb7a9061e0\n",
    "- https://colorbrewer2.org/#type=sequential&scheme=Greens&n=3"
   ]
  },
  {
   "cell_type": "code",
   "execution_count": 1,
   "id": "453fb991",
   "metadata": {},
   "outputs": [],
   "source": [
    "import pandas as pd\n",
    "import seaborn as sns\n",
    "import numpy as np\n",
    "import matplotlib.pyplot as plt"
   ]
  },
  {
   "cell_type": "markdown",
   "id": "f49721f9",
   "metadata": {},
   "source": [
    "Reading in our csv file using parse_dates to to change our 'date' datatype to datetime64"
   ]
  },
  {
   "cell_type": "code",
   "execution_count": 2,
   "id": "97811c13",
   "metadata": {},
   "outputs": [],
   "source": [
    "elo = pd.read_csv('https://projects.fivethirtyeight.com/nfl-api/nfl_elo.csv', parse_dates=['date'])"
   ]
  },
  {
   "cell_type": "markdown",
   "id": "e0b0a2b3",
   "metadata": {},
   "source": [
    "There were 17 columns in our dataset that were either irrelevant to our question or contained mostly null values, so we dropped them."
   ]
  },
  {
   "cell_type": "code",
   "execution_count": 3,
   "id": "822bfe25",
   "metadata": {},
   "outputs": [],
   "source": [
    "elo.drop(columns=['neutral', 'playoff', 'elo1_post', 'elo2_post', 'qb1', 'qb2', 'qb1_value_pre', 'qb2_value_pre', 'qb1_game_value', 'qb2_game_value', 'qb1_value_post', 'qb2_value_post', 'qbelo1_post', 'qbelo2_post', \n",
    "                 'quality', 'importance', 'total_rating'], inplace=True)"
   ]
  },
  {
   "cell_type": "markdown",
   "id": "b6614433",
   "metadata": {},
   "source": [
    "The NFL did not start keeping track of Elo ratings based on quarterback data until 1950, so every game before that season was missing that data. We established a threshhold of 16 columns, the number of columns in our dataset, to drop all the data before quarterback Elo ratings were recorded."
   ]
  },
  {
   "cell_type": "code",
   "execution_count": 4,
   "id": "6b4d7921",
   "metadata": {},
   "outputs": [],
   "source": [
    "elo.dropna(thresh=16, inplace=True)"
   ]
  },
  {
   "cell_type": "markdown",
   "id": "2f3da059",
   "metadata": {},
   "source": [
    "We also reindexed the dataframe based on date."
   ]
  },
  {
   "cell_type": "code",
   "execution_count": 5,
   "id": "14beb621",
   "metadata": {},
   "outputs": [],
   "source": [
    "elo.index=elo.date"
   ]
  },
  {
   "cell_type": "markdown",
   "id": "cb323bc9",
   "metadata": {},
   "source": [
    "We then created a column that would tell us whether the Elo's team probability rating for each game was correct (i.e. predicted the winner correctly) or incorrect. We used boolean values to do this. "
   ]
  },
  {
   "cell_type": "code",
   "execution_count": 6,
   "id": "557e805f",
   "metadata": {},
   "outputs": [
    {
     "data": {
      "text/html": [
       "<div>\n",
       "<style scoped>\n",
       "    .dataframe tbody tr th:only-of-type {\n",
       "        vertical-align: middle;\n",
       "    }\n",
       "\n",
       "    .dataframe tbody tr th {\n",
       "        vertical-align: top;\n",
       "    }\n",
       "\n",
       "    .dataframe thead th {\n",
       "        text-align: right;\n",
       "    }\n",
       "</style>\n",
       "<table border=\"1\" class=\"dataframe\">\n",
       "  <thead>\n",
       "    <tr style=\"text-align: right;\">\n",
       "      <th></th>\n",
       "      <th>team1</th>\n",
       "      <th>team2</th>\n",
       "      <th>elo_prob1</th>\n",
       "      <th>elo_prob2</th>\n",
       "      <th>score1</th>\n",
       "      <th>score2</th>\n",
       "      <th>team_rating_correct</th>\n",
       "    </tr>\n",
       "    <tr>\n",
       "      <th>date</th>\n",
       "      <th></th>\n",
       "      <th></th>\n",
       "      <th></th>\n",
       "      <th></th>\n",
       "      <th></th>\n",
       "      <th></th>\n",
       "      <th></th>\n",
       "    </tr>\n",
       "  </thead>\n",
       "  <tbody>\n",
       "    <tr>\n",
       "      <th>1969-09-28</th>\n",
       "      <td>GB</td>\n",
       "      <td>SF</td>\n",
       "      <td>0.719123</td>\n",
       "      <td>0.280877</td>\n",
       "      <td>14.0</td>\n",
       "      <td>7.0</td>\n",
       "      <td>1</td>\n",
       "    </tr>\n",
       "    <tr>\n",
       "      <th>2014-12-28</th>\n",
       "      <td>KC</td>\n",
       "      <td>LAC</td>\n",
       "      <td>0.567626</td>\n",
       "      <td>0.432374</td>\n",
       "      <td>19.0</td>\n",
       "      <td>7.0</td>\n",
       "      <td>1</td>\n",
       "    </tr>\n",
       "    <tr>\n",
       "      <th>1995-09-17</th>\n",
       "      <td>CAR</td>\n",
       "      <td>LAR</td>\n",
       "      <td>0.378928</td>\n",
       "      <td>0.621072</td>\n",
       "      <td>10.0</td>\n",
       "      <td>31.0</td>\n",
       "      <td>1</td>\n",
       "    </tr>\n",
       "    <tr>\n",
       "      <th>2000-11-26</th>\n",
       "      <td>LAC</td>\n",
       "      <td>KC</td>\n",
       "      <td>0.372234</td>\n",
       "      <td>0.627766</td>\n",
       "      <td>17.0</td>\n",
       "      <td>16.0</td>\n",
       "      <td>0</td>\n",
       "    </tr>\n",
       "    <tr>\n",
       "      <th>1959-10-11</th>\n",
       "      <td>DET</td>\n",
       "      <td>IND</td>\n",
       "      <td>0.416615</td>\n",
       "      <td>0.583385</td>\n",
       "      <td>24.0</td>\n",
       "      <td>31.0</td>\n",
       "      <td>1</td>\n",
       "    </tr>\n",
       "  </tbody>\n",
       "</table>\n",
       "</div>"
      ],
      "text/plain": [
       "           team1 team2  elo_prob1  elo_prob2  score1  score2  \\\n",
       "date                                                           \n",
       "1969-09-28    GB    SF   0.719123   0.280877    14.0     7.0   \n",
       "2014-12-28    KC   LAC   0.567626   0.432374    19.0     7.0   \n",
       "1995-09-17   CAR   LAR   0.378928   0.621072    10.0    31.0   \n",
       "2000-11-26   LAC    KC   0.372234   0.627766    17.0    16.0   \n",
       "1959-10-11   DET   IND   0.416615   0.583385    24.0    31.0   \n",
       "\n",
       "            team_rating_correct  \n",
       "date                             \n",
       "1969-09-28                    1  \n",
       "2014-12-28                    1  \n",
       "1995-09-17                    1  \n",
       "2000-11-26                    0  \n",
       "1959-10-11                    1  "
      ]
     },
     "execution_count": 6,
     "metadata": {},
     "output_type": "execute_result"
    }
   ],
   "source": [
    "conditions = [(elo['elo_prob1'] > elo['elo_prob2']) & (elo['score1'] > elo['score2']), \n",
    "              (elo['elo_prob2'] > elo['elo_prob1']) & (elo['score2'] > elo['score1']),\n",
    "              (elo['elo_prob1'] < elo['elo_prob2']) & (elo['score1'] > elo['score2']),\n",
    "              (elo['elo_prob2'] < elo['elo_prob1']) & (elo['score2'] > elo['score1'])]\n",
    "values = [True, True, False, False]\n",
    "elo['team_rating_correct'] = np.select(conditions, values)\n",
    "elo[['team1', 'team2', 'elo_prob1', 'elo_prob2', 'score1', 'score2', 'team_rating_correct']].sample(5)"
   ]
  },
  {
   "cell_type": "markdown",
   "id": "d4a7532d",
   "metadata": {},
   "source": [
    "We then created our own category to classify the Elo's team rating as either 'correct' or 'incorrect'."
   ]
  },
  {
   "cell_type": "code",
   "execution_count": 7,
   "id": "d2607d58",
   "metadata": {},
   "outputs": [],
   "source": [
    "elo['team_rating_accuracy'] = pd.cut(elo.team_rating_correct, bins=[0, 1, 2], labels=['Incorrect', 'Correct'], right=False)"
   ]
  },
  {
   "cell_type": "markdown",
   "id": "36ba08fc",
   "metadata": {},
   "source": [
    "We also created a column to show the 'confidence level' of the probability ratings. We did this by taking the probability percentage of the losing team and subtracting it from the probability percentage of the winning team. The larger the differential, the more confident the Elo rating was in its assessment that one team would win over the other."
   ]
  },
  {
   "cell_type": "code",
   "execution_count": 8,
   "id": "c811e76c",
   "metadata": {},
   "outputs": [
    {
     "data": {
      "text/html": [
       "<div>\n",
       "<style scoped>\n",
       "    .dataframe tbody tr th:only-of-type {\n",
       "        vertical-align: middle;\n",
       "    }\n",
       "\n",
       "    .dataframe tbody tr th {\n",
       "        vertical-align: top;\n",
       "    }\n",
       "\n",
       "    .dataframe thead th {\n",
       "        text-align: right;\n",
       "    }\n",
       "</style>\n",
       "<table border=\"1\" class=\"dataframe\">\n",
       "  <thead>\n",
       "    <tr style=\"text-align: right;\">\n",
       "      <th></th>\n",
       "      <th>team1</th>\n",
       "      <th>team2</th>\n",
       "      <th>elo_prob1</th>\n",
       "      <th>elo_prob2</th>\n",
       "      <th>score1</th>\n",
       "      <th>score2</th>\n",
       "      <th>team_rating_correct</th>\n",
       "      <th>team_rating_accuracy</th>\n",
       "      <th>team_confidence_level</th>\n",
       "    </tr>\n",
       "    <tr>\n",
       "      <th>date</th>\n",
       "      <th></th>\n",
       "      <th></th>\n",
       "      <th></th>\n",
       "      <th></th>\n",
       "      <th></th>\n",
       "      <th></th>\n",
       "      <th></th>\n",
       "      <th></th>\n",
       "      <th></th>\n",
       "    </tr>\n",
       "  </thead>\n",
       "  <tbody>\n",
       "    <tr>\n",
       "      <th>1981-10-05</th>\n",
       "      <td>PHI</td>\n",
       "      <td>ATL</td>\n",
       "      <td>0.699170</td>\n",
       "      <td>0.300830</td>\n",
       "      <td>16.0</td>\n",
       "      <td>13.0</td>\n",
       "      <td>1</td>\n",
       "      <td>Correct</td>\n",
       "      <td>39.8</td>\n",
       "    </tr>\n",
       "    <tr>\n",
       "      <th>1963-12-22</th>\n",
       "      <td>OAK</td>\n",
       "      <td>TEN</td>\n",
       "      <td>0.668652</td>\n",
       "      <td>0.331348</td>\n",
       "      <td>52.0</td>\n",
       "      <td>49.0</td>\n",
       "      <td>1</td>\n",
       "      <td>Correct</td>\n",
       "      <td>33.7</td>\n",
       "    </tr>\n",
       "    <tr>\n",
       "      <th>2015-11-01</th>\n",
       "      <td>CHI</td>\n",
       "      <td>MIN</td>\n",
       "      <td>0.370844</td>\n",
       "      <td>0.629156</td>\n",
       "      <td>20.0</td>\n",
       "      <td>23.0</td>\n",
       "      <td>1</td>\n",
       "      <td>Correct</td>\n",
       "      <td>25.8</td>\n",
       "    </tr>\n",
       "    <tr>\n",
       "      <th>1951-11-11</th>\n",
       "      <td>NYG</td>\n",
       "      <td>WSH</td>\n",
       "      <td>0.825618</td>\n",
       "      <td>0.174382</td>\n",
       "      <td>28.0</td>\n",
       "      <td>14.0</td>\n",
       "      <td>1</td>\n",
       "      <td>Correct</td>\n",
       "      <td>65.1</td>\n",
       "    </tr>\n",
       "    <tr>\n",
       "      <th>2017-12-14</th>\n",
       "      <td>IND</td>\n",
       "      <td>DEN</td>\n",
       "      <td>0.510238</td>\n",
       "      <td>0.489762</td>\n",
       "      <td>13.0</td>\n",
       "      <td>25.0</td>\n",
       "      <td>0</td>\n",
       "      <td>Incorrect</td>\n",
       "      <td>2.0</td>\n",
       "    </tr>\n",
       "  </tbody>\n",
       "</table>\n",
       "</div>"
      ],
      "text/plain": [
       "           team1 team2  elo_prob1  elo_prob2  score1  score2  \\\n",
       "date                                                           \n",
       "1981-10-05   PHI   ATL   0.699170   0.300830    16.0    13.0   \n",
       "1963-12-22   OAK   TEN   0.668652   0.331348    52.0    49.0   \n",
       "2015-11-01   CHI   MIN   0.370844   0.629156    20.0    23.0   \n",
       "1951-11-11   NYG   WSH   0.825618   0.174382    28.0    14.0   \n",
       "2017-12-14   IND   DEN   0.510238   0.489762    13.0    25.0   \n",
       "\n",
       "            team_rating_correct team_rating_accuracy  team_confidence_level  \n",
       "date                                                                         \n",
       "1981-10-05                    1              Correct                   39.8  \n",
       "1963-12-22                    1              Correct                   33.7  \n",
       "2015-11-01                    1              Correct                   25.8  \n",
       "1951-11-11                    1              Correct                   65.1  \n",
       "2017-12-14                    0            Incorrect                    2.0  "
      ]
     },
     "execution_count": 8,
     "metadata": {},
     "output_type": "execute_result"
    }
   ],
   "source": [
    "conditions = [(elo['elo_prob1'] > elo['elo_prob2']), (elo['elo_prob2'] > elo['elo_prob1'])]\n",
    "values = [((elo['elo_prob1']-elo['elo_prob2']).round(3))*100, ((elo['elo_prob2']-elo['elo_prob1']).round(3))*100]\n",
    "elo['team_confidence_level'] = np.select(conditions, values)\n",
    "elo[['team1', 'team2', 'elo_prob1', 'elo_prob2', 'score1', 'score2', 'team_rating_correct', \n",
    "     'team_rating_accuracy', 'team_confidence_level']].sample(5)"
   ]
  },
  {
   "cell_type": "markdown",
   "id": "fc49724d",
   "metadata": {},
   "source": [
    "We generated a second category column to classify these confidence levels into 'certainty range' categories."
   ]
  },
  {
   "cell_type": "code",
   "execution_count": 9,
   "id": "54594b0b",
   "metadata": {},
   "outputs": [
    {
     "data": {
      "text/html": [
       "<div>\n",
       "<style scoped>\n",
       "    .dataframe tbody tr th:only-of-type {\n",
       "        vertical-align: middle;\n",
       "    }\n",
       "\n",
       "    .dataframe tbody tr th {\n",
       "        vertical-align: top;\n",
       "    }\n",
       "\n",
       "    .dataframe thead th {\n",
       "        text-align: right;\n",
       "    }\n",
       "</style>\n",
       "<table border=\"1\" class=\"dataframe\">\n",
       "  <thead>\n",
       "    <tr style=\"text-align: right;\">\n",
       "      <th></th>\n",
       "      <th>team1</th>\n",
       "      <th>team2</th>\n",
       "      <th>elo_prob1</th>\n",
       "      <th>elo_prob2</th>\n",
       "      <th>score1</th>\n",
       "      <th>score2</th>\n",
       "      <th>team_rating_correct</th>\n",
       "      <th>team_rating_accuracy</th>\n",
       "      <th>team_confidence_level</th>\n",
       "      <th>certainty_range</th>\n",
       "    </tr>\n",
       "    <tr>\n",
       "      <th>date</th>\n",
       "      <th></th>\n",
       "      <th></th>\n",
       "      <th></th>\n",
       "      <th></th>\n",
       "      <th></th>\n",
       "      <th></th>\n",
       "      <th></th>\n",
       "      <th></th>\n",
       "      <th></th>\n",
       "      <th></th>\n",
       "    </tr>\n",
       "  </thead>\n",
       "  <tbody>\n",
       "    <tr>\n",
       "      <th>2000-11-12</th>\n",
       "      <td>DAL</td>\n",
       "      <td>CIN</td>\n",
       "      <td>0.721668</td>\n",
       "      <td>0.278332</td>\n",
       "      <td>23.0</td>\n",
       "      <td>6.0</td>\n",
       "      <td>1</td>\n",
       "      <td>Correct</td>\n",
       "      <td>44.3</td>\n",
       "      <td>25-50</td>\n",
       "    </tr>\n",
       "    <tr>\n",
       "      <th>1953-12-05</th>\n",
       "      <td>LAR</td>\n",
       "      <td>IND</td>\n",
       "      <td>0.914383</td>\n",
       "      <td>0.085617</td>\n",
       "      <td>45.0</td>\n",
       "      <td>2.0</td>\n",
       "      <td>1</td>\n",
       "      <td>Correct</td>\n",
       "      <td>82.9</td>\n",
       "      <td>75-100</td>\n",
       "    </tr>\n",
       "    <tr>\n",
       "      <th>1957-11-17</th>\n",
       "      <td>NYG</td>\n",
       "      <td>PHI</td>\n",
       "      <td>0.781455</td>\n",
       "      <td>0.218545</td>\n",
       "      <td>13.0</td>\n",
       "      <td>0.0</td>\n",
       "      <td>1</td>\n",
       "      <td>Correct</td>\n",
       "      <td>56.3</td>\n",
       "      <td>50-75</td>\n",
       "    </tr>\n",
       "    <tr>\n",
       "      <th>2012-11-25</th>\n",
       "      <td>LAC</td>\n",
       "      <td>BAL</td>\n",
       "      <td>0.362167</td>\n",
       "      <td>0.637833</td>\n",
       "      <td>13.0</td>\n",
       "      <td>16.0</td>\n",
       "      <td>1</td>\n",
       "      <td>Correct</td>\n",
       "      <td>27.6</td>\n",
       "      <td>25-50</td>\n",
       "    </tr>\n",
       "    <tr>\n",
       "      <th>1992-11-29</th>\n",
       "      <td>LAR</td>\n",
       "      <td>MIN</td>\n",
       "      <td>0.365652</td>\n",
       "      <td>0.634348</td>\n",
       "      <td>17.0</td>\n",
       "      <td>31.0</td>\n",
       "      <td>1</td>\n",
       "      <td>Correct</td>\n",
       "      <td>26.9</td>\n",
       "      <td>25-50</td>\n",
       "    </tr>\n",
       "  </tbody>\n",
       "</table>\n",
       "</div>"
      ],
      "text/plain": [
       "           team1 team2  elo_prob1  elo_prob2  score1  score2  \\\n",
       "date                                                           \n",
       "2000-11-12   DAL   CIN   0.721668   0.278332    23.0     6.0   \n",
       "1953-12-05   LAR   IND   0.914383   0.085617    45.0     2.0   \n",
       "1957-11-17   NYG   PHI   0.781455   0.218545    13.0     0.0   \n",
       "2012-11-25   LAC   BAL   0.362167   0.637833    13.0    16.0   \n",
       "1992-11-29   LAR   MIN   0.365652   0.634348    17.0    31.0   \n",
       "\n",
       "            team_rating_correct team_rating_accuracy  team_confidence_level  \\\n",
       "date                                                                          \n",
       "2000-11-12                    1              Correct                   44.3   \n",
       "1953-12-05                    1              Correct                   82.9   \n",
       "1957-11-17                    1              Correct                   56.3   \n",
       "2012-11-25                    1              Correct                   27.6   \n",
       "1992-11-29                    1              Correct                   26.9   \n",
       "\n",
       "           certainty_range  \n",
       "date                        \n",
       "2000-11-12           25-50  \n",
       "1953-12-05          75-100  \n",
       "1957-11-17           50-75  \n",
       "2012-11-25           25-50  \n",
       "1992-11-29           25-50  "
      ]
     },
     "execution_count": 9,
     "metadata": {},
     "output_type": "execute_result"
    }
   ],
   "source": [
    "elo['certainty_range'] = pd.cut(elo.team_confidence_level, bins=[0, 10, 25, 50, 75, 100], \n",
    "                                labels = ['0-10','10-25','25-50','50-75','75-100'], right=False)\n",
    "elo[['team1', 'team2', 'elo_prob1', 'elo_prob2', 'score1', 'score2', 'team_rating_correct', \n",
    "     'team_rating_accuracy', 'team_confidence_level', 'certainty_range']].sample(5)"
   ]
  },
  {
   "cell_type": "markdown",
   "id": "4b62f527",
   "metadata": {},
   "source": [
    "Using this data, we can use a catplot to get a feel for how the Elo's accuracy rating improves as its certainty rating gets higher. As expected, the Elo rating gets progressively more accurate as its confidence level increases. "
   ]
  },
  {
   "cell_type": "code",
   "execution_count": 10,
   "id": "75902ca7",
   "metadata": {},
   "outputs": [
    {
     "data": {
      "image/png": "[encoded data removed]",
      "text/plain": [
       "<Figure size 500x500 with 1 Axes>"
      ]
     },
     "metadata": {},
     "output_type": "display_data"
    }
   ],
   "source": [
    "sns.catplot(data=elo, x='certainty_range', y='team_rating_correct', kind='bar')\n",
    "plt.show()"
   ]
  },
  {
   "cell_type": "markdown",
   "id": "d22f7860",
   "metadata": {},
   "source": [
    "Referencing our datatypes, our two categoircal columns and our date column appear to be properly classified."
   ]
  },
  {
   "cell_type": "code",
   "execution_count": 11,
   "id": "ccc59fb1",
   "metadata": {},
   "outputs": [
    {
     "data": {
      "text/plain": [
       "date                     datetime64[ns]\n",
       "season                            int64\n",
       "team1                            object\n",
       "team2                            object\n",
       "elo1_pre                        float64\n",
       "elo2_pre                        float64\n",
       "elo_prob1                       float64\n",
       "elo_prob2                       float64\n",
       "qbelo1_pre                      float64\n",
       "qbelo2_pre                      float64\n",
       "qb1_adj                         float64\n",
       "qb2_adj                         float64\n",
       "qbelo_prob1                     float64\n",
       "qbelo_prob2                     float64\n",
       "score1                          float64\n",
       "score2                          float64\n",
       "team_rating_correct               int64\n",
       "team_rating_accuracy           category\n",
       "team_confidence_level           float64\n",
       "certainty_range                category\n",
       "dtype: object"
      ]
     },
     "execution_count": 11,
     "metadata": {},
     "output_type": "execute_result"
    }
   ],
   "source": [
    "elo.dtypes"
   ]
  },
  {
   "cell_type": "markdown",
   "id": "fc8a7e04",
   "metadata": {},
   "source": [
    "Running the aggregation for mean on the 'team_rating_correct' column gives us percentage for how often the Elo rating was correct in predicting the game outcome - 64.7%. Looks like Elo is a pretty good indicator!"
   ]
  },
  {
   "cell_type": "code",
   "execution_count": 12,
   "id": "a8d5448a",
   "metadata": {},
   "outputs": [
    {
     "data": {
      "text/plain": [
       "0.6472765732416711"
      ]
     },
     "execution_count": 12,
     "metadata": {},
     "output_type": "execute_result"
    }
   ],
   "source": [
    "elo.team_rating_correct.mean()"
   ]
  },
  {
   "cell_type": "markdown",
   "id": "1fa09883",
   "metadata": {},
   "source": [
    "The value counts for each category give us a better idea of how often the Elo is correct or incorrect at each confidence level. While the Elo rating does the best when the confidence level is above 75%, there aren't very many games where the certainty level is that high. The Elo rating is much more reliable at any confidence level above 25%.  "
   ]
  },
  {
   "cell_type": "code",
   "execution_count": 13,
   "id": "60cdd2d4",
   "metadata": {},
   "outputs": [
    {
     "data": {
      "text/plain": [
       "certainty_range  team_rating_correct\n",
       "0-10             1                      1407\n",
       "                 0                      1266\n",
       "10-25            1                      2207\n",
       "                 0                      1564\n",
       "25-50            1                      3520\n",
       "                 0                      1840\n",
       "50-75            1                      2300\n",
       "                 0                       631\n",
       "75-100           1                       358\n",
       "                 0                        35\n",
       "Name: team_rating_correct, dtype: int64"
      ]
     },
     "execution_count": 13,
     "metadata": {},
     "output_type": "execute_result"
    }
   ],
   "source": [
    "elo.groupby('certainty_range')['team_rating_correct'].value_counts()"
   ]
  },
  {
   "cell_type": "markdown",
   "id": "910268a2",
   "metadata": {},
   "source": [
    "Using a countplot, we were able to show clearly that the Elo rating not nearly as reliable at < 10%, as the number of correct and incorrect games is roughly the same. The information from the value_count() function above is also easily visualized here."
   ]
  },
  {
   "cell_type": "code",
   "execution_count": 14,
   "id": "61f0202f",
   "metadata": {
    "scrolled": true
   },
   "outputs": [
    {
     "data": {
      "image/png": "[encoded data removed]",
      "text/plain": [
       "<Figure size 640x480 with 1 Axes>"
      ]
     },
     "metadata": {},
     "output_type": "display_data"
    }
   ],
   "source": [
    "sns.countplot(data=elo, x='certainty_range',\n",
    "              hue='team_rating_accuracy',\n",
    "              palette={'Correct':'#1b7837', 'Incorrect':'#8c510a'}).set(title=\"Effect of Certainty on ELO Accuracy\")\n",
    "plt.legend(['Incorrect', 'Correct'])\n",
    "plt.ylabel(\"Number of Games\")\n",
    "plt.xlabel(\"Certainty Level \\n (Difference Between Favored Team Probability and Unfavored Team Probability)\")\n",
    "plt.show()"
   ]
  },
  {
   "cell_type": "markdown",
   "id": "4113f03a",
   "metadata": {},
   "source": [
    "We also wanted to visualize how the Elo rating performed over time. We started by grouping our elo rating by season and team rating accuracy."
   ]
  },
  {
   "cell_type": "code",
   "execution_count": 15,
   "id": "71cef952",
   "metadata": {},
   "outputs": [
    {
     "data": {
      "text/html": [
       "<div>\n",
       "<style scoped>\n",
       "    .dataframe tbody tr th:only-of-type {\n",
       "        vertical-align: middle;\n",
       "    }\n",
       "\n",
       "    .dataframe tbody tr th {\n",
       "        vertical-align: top;\n",
       "    }\n",
       "\n",
       "    .dataframe thead th {\n",
       "        text-align: right;\n",
       "    }\n",
       "</style>\n",
       "<table border=\"1\" class=\"dataframe\">\n",
       "  <thead>\n",
       "    <tr style=\"text-align: right;\">\n",
       "      <th></th>\n",
       "      <th></th>\n",
       "      <th>accuracy</th>\n",
       "    </tr>\n",
       "    <tr>\n",
       "      <th>season</th>\n",
       "      <th>team_rating_accuracy</th>\n",
       "      <th></th>\n",
       "    </tr>\n",
       "  </thead>\n",
       "  <tbody>\n",
       "    <tr>\n",
       "      <th rowspan=\"2\" valign=\"top\">1950</th>\n",
       "      <th>Incorrect</th>\n",
       "      <td>23</td>\n",
       "    </tr>\n",
       "    <tr>\n",
       "      <th>Correct</th>\n",
       "      <td>58</td>\n",
       "    </tr>\n",
       "    <tr>\n",
       "      <th rowspan=\"2\" valign=\"top\">1951</th>\n",
       "      <th>Incorrect</th>\n",
       "      <td>31</td>\n",
       "    </tr>\n",
       "    <tr>\n",
       "      <th>Correct</th>\n",
       "      <td>42</td>\n",
       "    </tr>\n",
       "    <tr>\n",
       "      <th>1952</th>\n",
       "      <th>Incorrect</th>\n",
       "      <td>29</td>\n",
       "    </tr>\n",
       "    <tr>\n",
       "      <th>...</th>\n",
       "      <th>...</th>\n",
       "      <td>...</td>\n",
       "    </tr>\n",
       "    <tr>\n",
       "      <th>2020</th>\n",
       "      <th>Correct</th>\n",
       "      <td>175</td>\n",
       "    </tr>\n",
       "    <tr>\n",
       "      <th rowspan=\"2\" valign=\"top\">2021</th>\n",
       "      <th>Incorrect</th>\n",
       "      <td>118</td>\n",
       "    </tr>\n",
       "    <tr>\n",
       "      <th>Correct</th>\n",
       "      <td>167</td>\n",
       "    </tr>\n",
       "    <tr>\n",
       "      <th rowspan=\"2\" valign=\"top\">2022</th>\n",
       "      <th>Incorrect</th>\n",
       "      <td>77</td>\n",
       "    </tr>\n",
       "    <tr>\n",
       "      <th>Correct</th>\n",
       "      <td>118</td>\n",
       "    </tr>\n",
       "  </tbody>\n",
       "</table>\n",
       "<p>146 rows × 1 columns</p>\n",
       "</div>"
      ],
      "text/plain": [
       "                             accuracy\n",
       "season team_rating_accuracy          \n",
       "1950   Incorrect                   23\n",
       "       Correct                     58\n",
       "1951   Incorrect                   31\n",
       "       Correct                     42\n",
       "1952   Incorrect                   29\n",
       "...                               ...\n",
       "2020   Correct                    175\n",
       "2021   Incorrect                  118\n",
       "       Correct                    167\n",
       "2022   Incorrect                   77\n",
       "       Correct                    118\n",
       "\n",
       "[146 rows x 1 columns]"
      ]
     },
     "execution_count": 15,
     "metadata": {},
     "output_type": "execute_result"
    }
   ],
   "source": [
    "elo_season = elo.groupby(['season', 'team_rating_accuracy']).agg(accuracy = pd.NamedAgg(column = 'team_rating_accuracy', aggfunc='count'))\n",
    "elo_season"
   ]
  },
  {
   "cell_type": "markdown",
   "id": "ae216a87",
   "metadata": {},
   "source": [
    "We changed our graph to an line graph that shows how the Elo rating accuracy improves over time with some anomolies in 1958 and 1982. These timeframes provide room for further exploration on why spikes and dips in Elo accuracy occurred during those times."
   ]
  },
  {
   "cell_type": "code",
   "execution_count": 16,
   "id": "28d4cbc8",
   "metadata": {},
   "outputs": [
    {
     "data": {
      "image/png": "[encoded data removed]",
      "text/plain": [
       "<Figure size 800x500 with 1 Axes>"
      ]
     },
     "metadata": {},
     "output_type": "display_data"
    }
   ],
   "source": [
    "#https://pandas.pydata.org/pandas-docs/stable/reference/api/pandas.DataFrame.unstack.html\n",
    "#https://stackoverflow.com/questions/33149428/modify-the-legend-of-pandas-bar-plot\n",
    "#https://datascience.stackexchange.com/questions/90355/how-can-i-get-rid-of-the-white-space-in-matplotlib\n",
    "time_elo =  elo_season.unstack(level=-1)\n",
    "time_elo = time_elo.iloc[:,[1,0]]\n",
    "\n",
    "ax = time_elo.plot(kind='line', figsize=(8,5), stacked=False, \n",
    "color={('accuracy', 'Correct'):'#1b7837', ('accuracy', 'Incorrect'):'#8c510a'}, title='ELO Accuracy Over Time')\n",
    "ax.legend(['Correct', 'Incorrect'])\n",
    "ax.set_ylabel(\"Number of Games\")\n",
    "ax.set_xlabel('Season')\n",
    "ax.margins(x=0)\n",
    "h,l = ax.get_legend_handles_labels()\n",
    "ax.legend(h[:2],[\"Correct\", \"Incorrect\"], loc=(.01,.85), fontsize=10)\n",
    "plt.show()"
   ]
  },
  {
   "cell_type": "code",
   "execution_count": null,
   "id": "6ed38cdc",
   "metadata": {},
   "outputs": [],
   "source": []
  }
 ],
 "metadata": {
  "kernelspec": {
   "display_name": "Python 3 (ipykernel)",
   "language": "python",
   "name": "python3"
  },
  "language_info": {
   "codemirror_mode": {
    "name": "ipython",
    "version": 3
   },
   "file_extension": ".py",
   "mimetype": "text/x-python",
   "name": "python",
   "nbconvert_exporter": "python",
   "pygments_lexer": "ipython3",
   "version": "3.9.13"
  },
  "vscode": {
   "interpreter": {
    "hash": "40d3a090f54c6569ab1632332b64b2c03c39dcf918b08424e98f38b5ae0af88f"
   }
  }
 },
 "nbformat": 4,
 "nbformat_minor": 5
}
